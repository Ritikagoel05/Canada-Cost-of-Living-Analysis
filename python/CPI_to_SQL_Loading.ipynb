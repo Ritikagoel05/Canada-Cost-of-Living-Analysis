{
 "cells": [
  {
   "cell_type": "code",
   "execution_count": 2,
   "id": "d3cd08b8-27df-42a5-b81a-def8e08141a3",
   "metadata": {},
   "outputs": [],
   "source": [
    "import sqlite3\n",
    "import pandas as pd"
   ]
  },
  {
   "cell_type": "code",
   "execution_count": 4,
   "id": "45c9dedf-32b7-4442-aa91-6ae79fb90db0",
   "metadata": {},
   "outputs": [],
   "source": [
    "df = pd.read_csv(\"../data/cpi_cleaned.csv\")"
   ]
  },
  {
   "cell_type": "code",
   "execution_count": 6,
   "id": "ffefb04d-53d7-4965-930b-d29b90298c84",
   "metadata": {},
   "outputs": [],
   "source": [
    "conn = sqlite3.connect(\"../data/cpi_database.sqlite\")"
   ]
  },
  {
   "cell_type": "code",
   "execution_count": 8,
   "id": "c3354175-5e2a-4998-938f-18e864b00660",
   "metadata": {},
   "outputs": [
    {
     "data": {
      "text/plain": [
       "4875"
      ]
     },
     "execution_count": 8,
     "metadata": {},
     "output_type": "execute_result"
    }
   ],
   "source": [
    "df.to_sql(\"cpi_data\", conn, if_exists=\"replace\", index=False)"
   ]
  },
  {
   "cell_type": "code",
   "execution_count": 10,
   "id": "98f76c80-c27c-40ef-8164-5f746cc2ecf6",
   "metadata": {},
   "outputs": [
    {
     "data": {
      "text/html": [
       "<div>\n",
       "<style scoped>\n",
       "    .dataframe tbody tr th:only-of-type {\n",
       "        vertical-align: middle;\n",
       "    }\n",
       "\n",
       "    .dataframe tbody tr th {\n",
       "        vertical-align: top;\n",
       "    }\n",
       "\n",
       "    .dataframe thead th {\n",
       "        text-align: right;\n",
       "    }\n",
       "</style>\n",
       "<table border=\"1\" class=\"dataframe\">\n",
       "  <thead>\n",
       "    <tr style=\"text-align: right;\">\n",
       "      <th></th>\n",
       "      <th>Total_Records</th>\n",
       "    </tr>\n",
       "  </thead>\n",
       "  <tbody>\n",
       "    <tr>\n",
       "      <th>0</th>\n",
       "      <td>4875</td>\n",
       "    </tr>\n",
       "  </tbody>\n",
       "</table>\n",
       "</div>"
      ],
      "text/plain": [
       "   Total_Records\n",
       "0           4875"
      ]
     },
     "execution_count": 10,
     "metadata": {},
     "output_type": "execute_result"
    }
   ],
   "source": [
    "pd.read_sql(\"SELECT COUNT(*) AS Total_Records FROM cpi_data\", conn)"
   ]
  },
  {
   "cell_type": "code",
   "execution_count": 12,
   "id": "124f5924-688c-4e51-a5a0-ce52dc26ee90",
   "metadata": {},
   "outputs": [
    {
     "data": {
      "text/html": [
       "<div>\n",
       "<style scoped>\n",
       "    .dataframe tbody tr th:only-of-type {\n",
       "        vertical-align: middle;\n",
       "    }\n",
       "\n",
       "    .dataframe tbody tr th {\n",
       "        vertical-align: top;\n",
       "    }\n",
       "\n",
       "    .dataframe thead th {\n",
       "        text-align: right;\n",
       "    }\n",
       "</style>\n",
       "<table border=\"1\" class=\"dataframe\">\n",
       "  <thead>\n",
       "    <tr style=\"text-align: right;\">\n",
       "      <th></th>\n",
       "      <th>Product</th>\n",
       "      <th>Date</th>\n",
       "      <th>CPI_Value</th>\n",
       "    </tr>\n",
       "  </thead>\n",
       "  <tbody>\n",
       "    <tr>\n",
       "      <th>0</th>\n",
       "      <td>Food and energy 9</td>\n",
       "      <td>January 2015</td>\n",
       "      <td>139.0</td>\n",
       "    </tr>\n",
       "    <tr>\n",
       "      <th>1</th>\n",
       "      <td>Fresh fruit and vegetables</td>\n",
       "      <td>January 2015</td>\n",
       "      <td>129.9</td>\n",
       "    </tr>\n",
       "    <tr>\n",
       "      <th>2</th>\n",
       "      <td>Energy 9</td>\n",
       "      <td>January 2015</td>\n",
       "      <td>139.5</td>\n",
       "    </tr>\n",
       "    <tr>\n",
       "      <th>3</th>\n",
       "      <td>Food and energy 9</td>\n",
       "      <td>February 2015</td>\n",
       "      <td>141.0</td>\n",
       "    </tr>\n",
       "    <tr>\n",
       "      <th>4</th>\n",
       "      <td>Fresh fruit and vegetables</td>\n",
       "      <td>February 2015</td>\n",
       "      <td>130.3</td>\n",
       "    </tr>\n",
       "    <tr>\n",
       "      <th>5</th>\n",
       "      <td>Energy 9</td>\n",
       "      <td>February 2015</td>\n",
       "      <td>145.1</td>\n",
       "    </tr>\n",
       "    <tr>\n",
       "      <th>6</th>\n",
       "      <td>Food and energy 9</td>\n",
       "      <td>March 2015</td>\n",
       "      <td>142.5</td>\n",
       "    </tr>\n",
       "    <tr>\n",
       "      <th>7</th>\n",
       "      <td>Fresh fruit and vegetables</td>\n",
       "      <td>March 2015</td>\n",
       "      <td>128.3</td>\n",
       "    </tr>\n",
       "    <tr>\n",
       "      <th>8</th>\n",
       "      <td>Energy 9</td>\n",
       "      <td>March 2015</td>\n",
       "      <td>149.8</td>\n",
       "    </tr>\n",
       "    <tr>\n",
       "      <th>9</th>\n",
       "      <td>Food and energy 9</td>\n",
       "      <td>April 2015</td>\n",
       "      <td>141.9</td>\n",
       "    </tr>\n",
       "  </tbody>\n",
       "</table>\n",
       "</div>"
      ],
      "text/plain": [
       "                      Product           Date  CPI_Value\n",
       "0           Food and energy 9   January 2015      139.0\n",
       "1  Fresh fruit and vegetables   January 2015      129.9\n",
       "2                    Energy 9   January 2015      139.5\n",
       "3           Food and energy 9  February 2015      141.0\n",
       "4  Fresh fruit and vegetables  February 2015      130.3\n",
       "5                    Energy 9  February 2015      145.1\n",
       "6           Food and energy 9     March 2015      142.5\n",
       "7  Fresh fruit and vegetables     March 2015      128.3\n",
       "8                    Energy 9     March 2015      149.8\n",
       "9           Food and energy 9     April 2015      141.9"
      ]
     },
     "execution_count": 12,
     "metadata": {},
     "output_type": "execute_result"
    }
   ],
   "source": [
    "pd.read_sql(\"SELECT * FROM cpi_data LIMIT 10\", conn)"
   ]
  },
  {
   "cell_type": "code",
   "execution_count": 16,
   "id": "532bb2aa-d1b0-47aa-934e-dc892b428d18",
   "metadata": {},
   "outputs": [
    {
     "data": {
      "text/html": [
       "<div>\n",
       "<style scoped>\n",
       "    .dataframe tbody tr th:only-of-type {\n",
       "        vertical-align: middle;\n",
       "    }\n",
       "\n",
       "    .dataframe tbody tr th {\n",
       "        vertical-align: top;\n",
       "    }\n",
       "\n",
       "    .dataframe thead th {\n",
       "        text-align: right;\n",
       "    }\n",
       "</style>\n",
       "<table border=\"1\" class=\"dataframe\">\n",
       "  <thead>\n",
       "    <tr style=\"text-align: right;\">\n",
       "      <th></th>\n",
       "      <th>Product</th>\n",
       "      <th>Date</th>\n",
       "      <th>CPI_Value</th>\n",
       "    </tr>\n",
       "  </thead>\n",
       "  <tbody>\n",
       "    <tr>\n",
       "      <th>0</th>\n",
       "      <td>Food and energy 9</td>\n",
       "      <td>January 2019</td>\n",
       "      <td>148.6</td>\n",
       "    </tr>\n",
       "    <tr>\n",
       "      <th>1</th>\n",
       "      <td>Energy 9</td>\n",
       "      <td>January 2019</td>\n",
       "      <td>148.5</td>\n",
       "    </tr>\n",
       "    <tr>\n",
       "      <th>2</th>\n",
       "      <td>Food and energy 9</td>\n",
       "      <td>February 2019</td>\n",
       "      <td>149.5</td>\n",
       "    </tr>\n",
       "    <tr>\n",
       "      <th>3</th>\n",
       "      <td>Energy 9</td>\n",
       "      <td>February 2019</td>\n",
       "      <td>150.1</td>\n",
       "    </tr>\n",
       "    <tr>\n",
       "      <th>4</th>\n",
       "      <td>Food and energy 9</td>\n",
       "      <td>March 2019</td>\n",
       "      <td>152.1</td>\n",
       "    </tr>\n",
       "    <tr>\n",
       "      <th>...</th>\n",
       "      <td>...</td>\n",
       "      <td>...</td>\n",
       "      <td>...</td>\n",
       "    </tr>\n",
       "    <tr>\n",
       "      <th>307</th>\n",
       "      <td>Energy 9</td>\n",
       "      <td>October 2019</td>\n",
       "      <td>194.4</td>\n",
       "    </tr>\n",
       "    <tr>\n",
       "      <th>308</th>\n",
       "      <td>Food and energy 9</td>\n",
       "      <td>November 2019</td>\n",
       "      <td>163.6</td>\n",
       "    </tr>\n",
       "    <tr>\n",
       "      <th>309</th>\n",
       "      <td>Energy 9</td>\n",
       "      <td>November 2019</td>\n",
       "      <td>195.7</td>\n",
       "    </tr>\n",
       "    <tr>\n",
       "      <th>310</th>\n",
       "      <td>Food and energy 9</td>\n",
       "      <td>December 2019</td>\n",
       "      <td>164.7</td>\n",
       "    </tr>\n",
       "    <tr>\n",
       "      <th>311</th>\n",
       "      <td>Energy 9</td>\n",
       "      <td>December 2019</td>\n",
       "      <td>198.4</td>\n",
       "    </tr>\n",
       "  </tbody>\n",
       "</table>\n",
       "<p>312 rows × 3 columns</p>\n",
       "</div>"
      ],
      "text/plain": [
       "               Product           Date  CPI_Value\n",
       "0    Food and energy 9   January 2019      148.6\n",
       "1             Energy 9   January 2019      148.5\n",
       "2    Food and energy 9  February 2019      149.5\n",
       "3             Energy 9  February 2019      150.1\n",
       "4    Food and energy 9     March 2019      152.1\n",
       "..                 ...            ...        ...\n",
       "307           Energy 9   October 2019      194.4\n",
       "308  Food and energy 9  November 2019      163.6\n",
       "309           Energy 9  November 2019      195.7\n",
       "310  Food and energy 9  December 2019      164.7\n",
       "311           Energy 9  December 2019      198.4\n",
       "\n",
       "[312 rows x 3 columns]"
      ]
     },
     "execution_count": 16,
     "metadata": {},
     "output_type": "execute_result"
    }
   ],
   "source": [
    "pd.read_sql(\"\"\"\n",
    "SELECT Product, Date, CPI_Value \n",
    "FROM cpi_data \n",
    "WHERE Product LIKE '%Energy%' \n",
    "AND Date LIKE '%2019%'\n",
    "\"\"\", conn)\n"
   ]
  },
  {
   "cell_type": "code",
   "execution_count": null,
   "id": "947df6c6-fb21-4609-b5dd-f6270c2a2f87",
   "metadata": {},
   "outputs": [],
   "source": []
  }
 ],
 "metadata": {
  "kernelspec": {
   "display_name": "Python 3 (ipykernel)",
   "language": "python",
   "name": "python3"
  },
  "language_info": {
   "codemirror_mode": {
    "name": "ipython",
    "version": 3
   },
   "file_extension": ".py",
   "mimetype": "text/x-python",
   "name": "python",
   "nbconvert_exporter": "python",
   "pygments_lexer": "ipython3",
   "version": "3.12.7"
  }
 },
 "nbformat": 4,
 "nbformat_minor": 5
}
